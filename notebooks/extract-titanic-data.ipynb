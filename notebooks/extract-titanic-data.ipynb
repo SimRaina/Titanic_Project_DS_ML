{
 "cells": [
  {
   "cell_type": "code",
   "execution_count": 3,
   "metadata": {},
   "outputs": [],
   "source": [
    "from dotenv import load_dotenv, find_dotenv"
   ]
  },
  {
   "cell_type": "code",
   "execution_count": 4,
   "metadata": {},
   "outputs": [
    {
     "data": {
      "text/plain": [
       "True"
      ]
     },
     "execution_count": 4,
     "metadata": {},
     "output_type": "execute_result"
    }
   ],
   "source": [
    "# find dotenv file walking up directories until it is found\n",
    "dotenv_path=find_dotenv()\n",
    "load_dotenv(dotenv_path)"
   ]
  },
  {
   "cell_type": "code",
   "execution_count": 5,
   "metadata": {},
   "outputs": [
    {
     "name": "stdout",
     "output_type": "stream",
     "text": [
      "simranrai22\n"
     ]
    }
   ],
   "source": [
    "import os\n",
    "KAGGLE_USERNAME=os.environ.get(\"KAGGLE_USERNAME\")\n",
    "print(KAGGLE_USERNAME)"
   ]
  },
  {
   "cell_type": "code",
   "execution_count": 6,
   "metadata": {},
   "outputs": [],
   "source": [
    "import requests\n",
    "from requests import session\n",
    "import os\n",
    "from dotenv import load_dotenv, find_dotenv"
   ]
  },
  {
   "cell_type": "code",
   "execution_count": 7,
   "metadata": {},
   "outputs": [],
   "source": [
    "# NOTE: This is redundant as Kaggle API need to be used to download data and post doesn't work anymore\n",
    "#payload for post\n",
    "payload = {\n",
    "          'action': 'login',\n",
    "          'username': os.environ.get(\"KAGGLE_USERNAME\"),\n",
    "          'password': os.environ.get(\"KAGGLE_PASSWORD\")\n",
    "          }\n",
    "url='https://www.kaggle.com/c/titanic/download/train.csv'\n",
    "\n",
    "# setup session\n",
    "with session() as c:\n",
    "    c.post('https://www.kaggle.com/account/login', data=payload)\n",
    "    response=c.get(url)\n",
    "    "
   ]
  },
  {
   "cell_type": "code",
   "execution_count": 10,
   "metadata": {},
   "outputs": [],
   "source": [
    "# API keys can be created from the Kaggle account and stored in C://Users/<windows-name>/.kaggle/kaggle.json\n",
    "def extract_data(file_name, file_path):\n",
    "    !kaggle competitions download titanic -f $file_name -p $file_path  --force"
   ]
  },
  {
   "cell_type": "code",
   "execution_count": 11,
   "metadata": {},
   "outputs": [
    {
     "name": "stdout",
     "output_type": "stream",
     "text": [
      "Downloading train.csv to ..\\data\\raw\n",
      "\n"
     ]
    },
    {
     "name": "stderr",
     "output_type": "stream",
     "text": [
      "\n",
      "  0%|          | 0.00/59.8k [00:00<?, ?B/s]\n",
      "100%|##########| 59.8k/59.8k [00:00<00:00, 3.13MB/s]\n"
     ]
    },
    {
     "name": "stdout",
     "output_type": "stream",
     "text": [
      "Downloading test.csv to ..\\data\\raw\n",
      "\n"
     ]
    },
    {
     "name": "stderr",
     "output_type": "stream",
     "text": [
      "\n",
      "  0%|          | 0.00/28.0k [00:00<?, ?B/s]\n",
      "100%|##########| 28.0k/28.0k [00:00<00:00, 2.72MB/s]\n"
     ]
    }
   ],
   "source": [
    "# file names\n",
    "train_file_name=\"train.csv\"\n",
    "test_file_name=\"test.csv\"\n",
    "\n",
    "# file paths\n",
    "raw_data_path = os.path.join(os.path.pardir,'data', 'raw')\n",
    "train_data_path = os.path.join(raw_data_path, 'train.csv')\n",
    "test_data_path = os.path.join(raw_data_path, 'test.csv')\n",
    "extract_data(train_file_name, raw_data_path)\n",
    "extract_data(test_file_name, raw_data_path)\n"
   ]
  },
  {
   "cell_type": "code",
   "execution_count": 12,
   "metadata": {},
   "outputs": [],
   "source": [
    "# Building the reproducible python file script"
   ]
  },
  {
   "cell_type": "code",
   "execution_count": null,
   "metadata": {},
   "outputs": [],
   "source": []
  }
 ],
 "metadata": {
  "kernelspec": {
   "display_name": "Python 3",
   "language": "python",
   "name": "python3"
  },
  "language_info": {
   "codemirror_mode": {
    "name": "ipython",
    "version": 3
   },
   "file_extension": ".py",
   "mimetype": "text/x-python",
   "name": "python",
   "nbconvert_exporter": "python",
   "pygments_lexer": "ipython3",
   "version": "3.7.3"
  }
 },
 "nbformat": 4,
 "nbformat_minor": 2
}
